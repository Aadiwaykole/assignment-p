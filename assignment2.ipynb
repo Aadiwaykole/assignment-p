{
  "nbformat": 4,
  "nbformat_minor": 0,
  "metadata": {
    "colab": {
      "provenance": []
    },
    "kernelspec": {
      "name": "python3",
      "display_name": "Python 3"
    },
    "language_info": {
      "name": "python"
    }
  },
  "cells": [
    {
      "cell_type": "code",
      "execution_count": null,
      "metadata": {
        "id": "qW1esIZYcG4b"
      },
      "outputs": [],
      "source": []
    },
    {
      "cell_type": "markdown",
      "source": [
        "1. What are data structures, and why are they important3\n",
        "=>"
      ],
      "metadata": {
        "id": "xDIg9eCOcNAa"
      }
    },
    {
      "cell_type": "markdown",
      "source": [
        "=> date structure are ways to store data and organized a data in computer so that we can use it efficiently , it is imp for fast process, for handling a big data and also efficient process"
      ],
      "metadata": {
        "id": "rlb3uODpkI1R"
      }
    },
    {
      "cell_type": "markdown",
      "source": [
        "2 .  Explain the difference between mutable and immutable data types with examplesP\n",
        "\n",
        "=> so basically mutable means a data type that can be changed after a creation and its examples is list , dict and set\n",
        "  and immutable means a data type The lights that cant be changed after creation and And their example is tuple, str, float, int"
      ],
      "metadata": {
        "id": "yioqm_Kbkpcv"
      }
    },
    {
      "cell_type": "markdown",
      "source": [
        "3.  What are the main differences between lists and tuples in Python?\n",
        "=>  So the difference between  list and tuple is like a list is immutable and the tuple is immutable  "
      ],
      "metadata": {
        "id": "wJFWNVe5l93A"
      }
    },
    {
      "cell_type": "markdown",
      "source": [
        "4. Describe how dictionaries store data?\n",
        "\n",
        "=> Stored data in key value format And is this unique and it is used to quickly find  its value\n"
      ],
      "metadata": {
        "id": "5loP9jHVnAux"
      }
    },
    {
      "cell_type": "markdown",
      "source": [
        "5.  Why might you use a set instead of a list in Python?\n",
        "\n",
        "=> couse in set data type is removes duplicates , by using hashing, so chicking if an item exist is very fast, and also it is useful for Mathmatical operation"
      ],
      "metadata": {
        "id": "htXC5zknn-TH"
      }
    },
    {
      "cell_type": "markdown",
      "source": [
        " 6. What is a string in Python, and how is it different from a list?\n",
        "\n",
        " => A string is a sequence of characters enclosed in single('') , and double quotes or triple quotes\n",
        " it stores characters only\n",
        " and its is immutable and elements are always characters"
      ],
      "metadata": {
        "id": "D5y7p5OcpbUX"
      }
    },
    {
      "cell_type": "markdown",
      "source": [
        "7.   How do tuples ensure data integrity in Python?\n",
        "\n",
        "=> A tuple is a collection of items but written in round brackets(). Tuple are Immutable once created , we cannot change their element ."
      ],
      "metadata": {
        "id": "A6H3pwe6u7G6"
      }
    },
    {
      "cell_type": "markdown",
      "source": [],
      "metadata": {
        "id": "xwV_Vfbkpe9_"
      }
    },
    {
      "cell_type": "markdown",
      "source": [
        " 8.   What is a hash table, and how does it relate to dictionaries in Python\n",
        "\n",
        "  => hash table is structes that store data in key value pairs . I python, a dictionary id implemented using a hash table internally.\n",
        "  we cna get it from this function dict[key]"
      ],
      "metadata": {
        "id": "bg9h7vF5vxO0"
      }
    },
    {
      "cell_type": "markdown",
      "source": [
        " 9. Can lists contain different data types in Python ?\n",
        "  => yes, lists in python can contain different data types"
      ],
      "metadata": {
        "id": "ebNUk_JVxcFf"
      }
    },
    {
      "cell_type": "markdown",
      "source": [
        " 10. Explain why strings are immutable in Python ?\n",
        "\n",
        "  => Memory Efficiency , hashing and dictionary keys security and predictability"
      ],
      "metadata": {
        "id": "YecVbtpnyEsO"
      }
    },
    {
      "cell_type": "markdown",
      "source": [
        " 11. What advantages do dictionaries offer over lists for certain tasks ?\n",
        "\n",
        " => Fast Lookups, Better Data Organization,  No Need to Remember Index Positions,  Dynamic & Flexible"
      ],
      "metadata": {
        "id": "qoW4yLpZy8u4"
      }
    },
    {
      "cell_type": "markdown",
      "source": [
        " 12.  Describe a scenario where using a tuple would be preferable over a list ?\n",
        "\n",
        "  => we can use tuble there i dont want to change data or should not change and other like for improving perfomance and safe to use as dictionary keys\n",
        "\n"
      ],
      "metadata": {
        "id": "OJqjftgRz07u"
      }
    },
    {
      "cell_type": "markdown",
      "source": [
        " 13. How do sets handle duplicate values in Python?\n",
        "\n",
        "  => A set in python is a collectin of Unique element there is no duplicate allowed\n",
        "  if we try we add a duplicate value , python ignores it automatically\n",
        "  there is no error , it just keeps one copy."
      ],
      "metadata": {
        "id": "vSdE2Wal2SOK"
      }
    },
    {
      "cell_type": "markdown",
      "source": [
        " 14. How does the “in” keyword work differently for lists and dictionaries ?\n",
        "\n",
        " =>\"in\" with list\n",
        "\n",
        "  it checks if a value exists in the list . it searches each element one by one\n",
        " \"in \"with dictionary\n",
        "\n",
        " check only for keys by defaule and used hashing"
      ],
      "metadata": {
        "id": "z7nGKCBW3PhM"
      }
    },
    {
      "cell_type": "markdown",
      "source": [
        " 15. Can you modify the elements of a tuple? Explain why or why not\n",
        "\n",
        " => no, i cant modify tuple element direct couase tuple are immutable once created , their elements cannot be changed, added or removed."
      ],
      "metadata": {
        "id": "dUEdq1QZ4a1K"
      }
    },
    {
      "cell_type": "markdown",
      "source": [
        " 16. What is a nested dictionary, and give an example of its use case ?\n",
        "\n",
        "  => nested dictionary means a dictionary inside another dictionary and its allows to store complex, hierarchical data.\n",
        "\n",
        "  ex . storing structured data ,\n",
        "  Api response , configuratin files"
      ],
      "metadata": {
        "id": "2Jk8K9Ky6ZsS"
      }
    },
    {
      "cell_type": "markdown",
      "source": [
        "  17. Describe the time complexity of accessing elements in a dictionary?\n",
        "   \n",
        " => The time complexity of accesing element in dictionary is Average case 0(1) constant time dictionaries in python are implemented using hash tables."
      ],
      "metadata": {
        "id": "J8vrZKbS7XFL"
      }
    },
    {
      "cell_type": "code",
      "source": [
        "my_dict = {\"name\": \"Aditya\", \"age\": 15}\n",
        "print(my_dict[\"name\"])\n"
      ],
      "metadata": {
        "colab": {
          "base_uri": "https://localhost:8080/"
        },
        "id": "njpTUiee8Hct",
        "outputId": "ab2a1034-42fb-4cee-d1eb-2b2eb0185502"
      },
      "execution_count": null,
      "outputs": [
        {
          "output_type": "stream",
          "name": "stdout",
          "text": [
            "Aditya\n"
          ]
        }
      ]
    },
    {
      "cell_type": "markdown",
      "source": [
        " 18.  In what situations are lists preferred over dictionaries ?\n",
        "\n",
        "  => when order mattern , when dont need key-value Pairs, when data is small and simple , when we need a duplicated"
      ],
      "metadata": {
        "id": "T6BlePBD9gQU"
      }
    },
    {
      "cell_type": "markdown",
      "source": [],
      "metadata": {
        "id": "nJLVvurb-Pp0"
      }
    },
    {
      "cell_type": "markdown",
      "source": [
        " 19. Why are dictionaries considered unordered,  and how does that affect data retrieval\n",
        "   \n",
        "   => Dictionaries use a hash table to store data (key → value).\n",
        "\n",
        "Each key is converted to a hash value → used as an index in memory.\n",
        "\n",
        "Keys are not stored in any fixed sequence like lists.\n",
        "\n",
        "Result: The order of items depends on hashing,\n"
      ],
      "metadata": {
        "id": "Slkwj5pL-vGV"
      }
    },
    {
      "cell_type": "markdown",
      "source": [
        " 20.  Explain the difference between a list and a dictionary in terms of data retrieval\n",
        "\n",
        "  => in list we accessed data by using index, in dictionary we accessed data by key\n",
        "\n",
        "  in list best when order matter and element are possition based , in dictionary best when fast lookup by required"
      ],
      "metadata": {
        "id": "gQtWO52a-xgd"
      }
    },
    {
      "cell_type": "markdown",
      "source": [],
      "metadata": {
        "id": "_3Xd7Vyo_WFN"
      }
    },
    {
      "cell_type": "code",
      "source": [],
      "metadata": {
        "id": "8GIIstBP9UdZ"
      },
      "execution_count": null,
      "outputs": []
    },
    {
      "cell_type": "markdown",
      "source": [
        "**practical quesitons**\n"
      ],
      "metadata": {
        "id": "aWyuW-rm7OYn"
      }
    },
    {
      "cell_type": "markdown",
      "source": [
        "*Write a code to create a string with your name and print it"
      ],
      "metadata": {
        "id": "L499h4H87TU_"
      }
    },
    {
      "cell_type": "code",
      "source": [
        "Firstname = \"aditya\"\n",
        "print (Firstname);\n"
      ],
      "metadata": {
        "colab": {
          "base_uri": "https://localhost:8080/"
        },
        "id": "1BpMmis_7YSv",
        "outputId": "44c9452f-2e75-43df-fa2d-a3353280da95"
      },
      "execution_count": 1,
      "outputs": [
        {
          "output_type": "stream",
          "name": "stdout",
          "text": [
            "adity\n"
          ]
        }
      ]
    },
    {
      "cell_type": "markdown",
      "source": [
        "Write a code to find the length of the string \"Hello World\""
      ],
      "metadata": {
        "id": "bkyal8lg-UzY"
      }
    },
    {
      "cell_type": "code",
      "source": [
        "newcode = \"hello world\"\n",
        "print(len(newcode))"
      ],
      "metadata": {
        "colab": {
          "base_uri": "https://localhost:8080/"
        },
        "id": "F7xsuoBz-Wl4",
        "outputId": "a2e183d7-f1f0-4519-cedb-fe8d55b542a6"
      },
      "execution_count": 2,
      "outputs": [
        {
          "output_type": "stream",
          "name": "stdout",
          "text": [
            "11\n"
          ]
        }
      ]
    },
    {
      "cell_type": "code",
      "source": [],
      "metadata": {
        "id": "Db9a5dck-ejq"
      },
      "execution_count": null,
      "outputs": []
    },
    {
      "cell_type": "markdown",
      "source": [
        "Write a code to slice the first 3 characters from the string \"Python Programming"
      ],
      "metadata": {
        "id": "Mg3DB3E1-21z"
      }
    },
    {
      "cell_type": "code",
      "source": [
        "new_string = \"python programming\"\n",
        "print(new_string[0:3])"
      ],
      "metadata": {
        "colab": {
          "base_uri": "https://localhost:8080/"
        },
        "id": "KocUL0yT7kxn",
        "outputId": "16bf298b-73d8-457e-a755-e35c341de03d"
      },
      "execution_count": 3,
      "outputs": [
        {
          "output_type": "stream",
          "name": "stdout",
          "text": [
            "pyt\n"
          ]
        }
      ]
    },
    {
      "cell_type": "code",
      "source": [],
      "metadata": {
        "id": "Ej61WcUJ_4ln"
      },
      "execution_count": null,
      "outputs": []
    },
    {
      "cell_type": "markdown",
      "source": [
        "Write a code to convert the string \"hello\" to uppercase"
      ],
      "metadata": {
        "id": "ih6Ydx4dAFBC"
      }
    },
    {
      "cell_type": "code",
      "source": [
        "text = \"hello\"\n",
        "\n",
        "print (text.upper())"
      ],
      "metadata": {
        "colab": {
          "base_uri": "https://localhost:8080/"
        },
        "id": "AOCoK4wfAF94",
        "outputId": "e3f70bf2-6348-4192-aeb1-dd49d761915f"
      },
      "execution_count": 4,
      "outputs": [
        {
          "output_type": "stream",
          "name": "stdout",
          "text": [
            "HELLO\n"
          ]
        }
      ]
    },
    {
      "cell_type": "markdown",
      "source": [
        "*Write a code to replace the word \"apple\" with \"orange\" in the string \"I like apple\""
      ],
      "metadata": {
        "id": "PYeu-QD3GGqv"
      }
    },
    {
      "cell_type": "code",
      "source": [
        "word = \"i like apple \"\n",
        "new_word  = word.replace(\"apple\",\"orange\")\n",
        "\n",
        "print(new_word)"
      ],
      "metadata": {
        "colab": {
          "base_uri": "https://localhost:8080/"
        },
        "id": "TekBQz_hGM6f",
        "outputId": "9d01abf3-9398-42e8-e2c4-f75fd5074646"
      },
      "execution_count": 6,
      "outputs": [
        {
          "output_type": "stream",
          "name": "stdout",
          "text": [
            "i like orange \n"
          ]
        }
      ]
    },
    {
      "cell_type": "code",
      "source": [],
      "metadata": {
        "id": "-HtwMMuyGret"
      },
      "execution_count": null,
      "outputs": []
    },
    {
      "cell_type": "markdown",
      "source": [
        "*Write a code to create a list with numbers 1 to 5 and print it"
      ],
      "metadata": {
        "id": "Ty9OtpyUGten"
      }
    },
    {
      "cell_type": "code",
      "source": [
        "new = [1,2,3,4,5]\n",
        "print(new)"
      ],
      "metadata": {
        "colab": {
          "base_uri": "https://localhost:8080/"
        },
        "id": "Laoyf9uoGnJq",
        "outputId": "51b6015c-957a-496c-ad39-5802c083db77"
      },
      "execution_count": 7,
      "outputs": [
        {
          "output_type": "stream",
          "name": "stdout",
          "text": [
            "[1, 2, 3, 4, 5]\n"
          ]
        }
      ]
    },
    {
      "cell_type": "markdown",
      "source": [
        "*Write a code to append the number 10 to the list [1, 2, 3, 4]"
      ],
      "metadata": {
        "id": "lsB4AubPHIsX"
      }
    },
    {
      "cell_type": "code",
      "source": [
        " new_list  = [1,2,3,4]\n",
        " new_list.append(10 )\n",
        " print(new_list)"
      ],
      "metadata": {
        "colab": {
          "base_uri": "https://localhost:8080/"
        },
        "id": "je6qzrghHGrn",
        "outputId": "3da2d820-b2e6-455a-aa25-b2798ec89f2e"
      },
      "execution_count": 9,
      "outputs": [
        {
          "output_type": "stream",
          "name": "stdout",
          "text": [
            "[1, 2, 3, 4, 10]\n"
          ]
        }
      ]
    },
    {
      "cell_type": "code",
      "source": [],
      "metadata": {
        "id": "ISjlyCe4HbIU"
      },
      "execution_count": null,
      "outputs": []
    },
    {
      "cell_type": "markdown",
      "source": [
        "*Write a code to remove the number 3 from the list [1, 2, 3, 4, 5]\n"
      ],
      "metadata": {
        "id": "NHBzp1i-HcPv"
      }
    },
    {
      "cell_type": "code",
      "source": [
        "new = [1,2,3,4,5]\n",
        "new.remove(3)\n",
        "print(new)"
      ],
      "metadata": {
        "colab": {
          "base_uri": "https://localhost:8080/"
        },
        "id": "AYKp8Og6HhTn",
        "outputId": "e3ba48b3-cecc-48c7-b67f-a142e45d34f3"
      },
      "execution_count": 12,
      "outputs": [
        {
          "output_type": "stream",
          "name": "stdout",
          "text": [
            "[1, 2, 4, 5]\n"
          ]
        }
      ]
    },
    {
      "cell_type": "code",
      "source": [],
      "metadata": {
        "id": "ZRiO5SstH1Sa"
      },
      "execution_count": null,
      "outputs": []
    },
    {
      "cell_type": "markdown",
      "source": [
        "*Write a code to access the second element in the list ['a', 'b', 'c', 'd']"
      ],
      "metadata": {
        "id": "wkXkN3UWH__Q"
      }
    },
    {
      "cell_type": "code",
      "source": [
        "new = ['a','b','c','d']\n",
        "print(new[1])"
      ],
      "metadata": {
        "colab": {
          "base_uri": "https://localhost:8080/"
        },
        "id": "pYRNU1JlIB6Q",
        "outputId": "920c58d4-d1f8-4a97-f51d-9a23fcdc86df"
      },
      "execution_count": 13,
      "outputs": [
        {
          "output_type": "stream",
          "name": "stdout",
          "text": [
            "b\n"
          ]
        }
      ]
    },
    {
      "cell_type": "code",
      "source": [],
      "metadata": {
        "id": "VfSJFiSPIHiw"
      },
      "execution_count": null,
      "outputs": []
    },
    {
      "cell_type": "markdown",
      "source": [
        "*Write a code to reverse the list [10, 20, 30, 40, 50]"
      ],
      "metadata": {
        "id": "7rPNRfjVIJAv"
      }
    },
    {
      "cell_type": "code",
      "source": [
        " new = [10,20,30,40,50]\n",
        " new.reverse()\n",
        " print(new)"
      ],
      "metadata": {
        "colab": {
          "base_uri": "https://localhost:8080/"
        },
        "id": "Um0Nt6kmINbg",
        "outputId": "c3af00fa-e255-4621-bb6b-4dcf96bd6f12"
      },
      "execution_count": 14,
      "outputs": [
        {
          "output_type": "stream",
          "name": "stdout",
          "text": [
            "[50, 40, 30, 20, 10]\n"
          ]
        }
      ]
    },
    {
      "cell_type": "code",
      "source": [],
      "metadata": {
        "id": "3S0w52KwIVj8"
      },
      "execution_count": null,
      "outputs": []
    },
    {
      "cell_type": "markdown",
      "source": [
        "* Write a code to create a tuple with the elements 100, 200, 300 and print it"
      ],
      "metadata": {
        "id": "jtLBhO9YIYJa"
      }
    },
    {
      "cell_type": "code",
      "source": [
        "my_tuple = (100,200,300)\n",
        "print(my_tuple)"
      ],
      "metadata": {
        "colab": {
          "base_uri": "https://localhost:8080/"
        },
        "id": "XiPkGr44IoFu",
        "outputId": "0b75ab3a-f9c5-42a5-cf86-3d52a969f0c3"
      },
      "execution_count": 18,
      "outputs": [
        {
          "output_type": "stream",
          "name": "stdout",
          "text": [
            "(100, 200, 300)\n"
          ]
        }
      ]
    },
    {
      "cell_type": "code",
      "source": [],
      "metadata": {
        "id": "pRKl-Qm2I63T"
      },
      "execution_count": null,
      "outputs": []
    },
    {
      "cell_type": "markdown",
      "source": [
        "* Write a code to access the second-to-last element of the tuple ('red', 'green', 'blue', 'yellow')"
      ],
      "metadata": {
        "id": "8tTr-UVQJecD"
      }
    },
    {
      "cell_type": "code",
      "source": [
        "your_tuple = ('red', 'green', 'blue', 'yellow')\n",
        "print(your_tuple[1:])"
      ],
      "metadata": {
        "colab": {
          "base_uri": "https://localhost:8080/"
        },
        "id": "hhlEuDogIuT5",
        "outputId": "f30d9048-4f2e-4c28-9664-d5b3004d2ba7"
      },
      "execution_count": 20,
      "outputs": [
        {
          "output_type": "stream",
          "name": "stdout",
          "text": [
            "('green', 'blue', 'yellow')\n"
          ]
        }
      ]
    },
    {
      "cell_type": "code",
      "source": [],
      "metadata": {
        "id": "Uues3qWdJ1X_"
      },
      "execution_count": null,
      "outputs": []
    },
    {
      "cell_type": "markdown",
      "source": [
        "*Write a code to find the minimum number in the tuple (10, 20, 5, 15)"
      ],
      "metadata": {
        "id": "VZHBdu2tJ3Kb"
      }
    },
    {
      "cell_type": "code",
      "source": [
        "num_min = (10,20,5,15)\n",
        "print(min(num_min))"
      ],
      "metadata": {
        "colab": {
          "base_uri": "https://localhost:8080/"
        },
        "id": "7MRzZOxFJvWX",
        "outputId": "c70d3f19-5b76-4a7b-84e8-86aeb3a9fb2a"
      },
      "execution_count": 22,
      "outputs": [
        {
          "output_type": "stream",
          "name": "stdout",
          "text": [
            "5\n"
          ]
        }
      ]
    },
    {
      "cell_type": "code",
      "source": [],
      "metadata": {
        "id": "vd25WBYpKaXw"
      },
      "execution_count": null,
      "outputs": []
    },
    {
      "cell_type": "markdown",
      "source": [
        "Write a code to find the index of the element \"cat\" in the tuple ('dog', 'cat', 'rabbit')"
      ],
      "metadata": {
        "id": "Hu1sfua6Kb1i"
      }
    },
    {
      "cell_type": "code",
      "source": [
        "tup = (\"dog\",\"cat\", \"rabbit\")\n",
        "new_tup = tup.index(\"cat\")\n",
        "print(new_tup)"
      ],
      "metadata": {
        "colab": {
          "base_uri": "https://localhost:8080/"
        },
        "id": "pliTCYynKiRh",
        "outputId": "b7cf68cc-7ec6-4fa2-cb08-9fade57680db"
      },
      "execution_count": 24,
      "outputs": [
        {
          "output_type": "stream",
          "name": "stdout",
          "text": [
            "1\n"
          ]
        }
      ]
    },
    {
      "cell_type": "code",
      "source": [],
      "metadata": {
        "id": "AmrwnB-JLJfK"
      },
      "execution_count": null,
      "outputs": []
    },
    {
      "cell_type": "markdown",
      "source": [
        " Write a code to create a tuple containing three different fruits and check if \"kiwi\" is in it\n",
        ""
      ],
      "metadata": {
        "id": "LlOezWRNOH_8"
      }
    },
    {
      "cell_type": "code",
      "source": [
        "old_tup = (\"apple\",\"banana\",\"kiwi\")\n",
        "print(\"kiwi\" in old_tup)"
      ],
      "metadata": {
        "colab": {
          "base_uri": "https://localhost:8080/"
        },
        "id": "ESFfBSgdOJRT",
        "outputId": "4e02ceeb-0da6-44d6-dfaa-5ea8d1d38aa1"
      },
      "execution_count": 25,
      "outputs": [
        {
          "output_type": "stream",
          "name": "stdout",
          "text": [
            "True\n"
          ]
        }
      ]
    },
    {
      "cell_type": "code",
      "source": [],
      "metadata": {
        "id": "0bgh38e3OSj2"
      },
      "execution_count": null,
      "outputs": []
    },
    {
      "cell_type": "markdown",
      "source": [
        "Write a code to create a set with the elements 'a', 'b', 'c' and print it\n"
      ],
      "metadata": {
        "id": "ndPBR8AOOVXM"
      }
    },
    {
      "cell_type": "code",
      "source": [
        "new_set = {\"a\",\"b\",\"c\"}\n",
        "print(new_set)"
      ],
      "metadata": {
        "colab": {
          "base_uri": "https://localhost:8080/"
        },
        "id": "41_ut9XLOZ1s",
        "outputId": "a5c2901c-4b7e-4c03-92ae-3d6ba5bbe385"
      },
      "execution_count": 26,
      "outputs": [
        {
          "output_type": "stream",
          "name": "stdout",
          "text": [
            "{'a', 'b', 'c'}\n"
          ]
        }
      ]
    },
    {
      "cell_type": "code",
      "source": [],
      "metadata": {
        "id": "uhtkmsliOiM4"
      },
      "execution_count": null,
      "outputs": []
    },
    {
      "cell_type": "markdown",
      "source": [
        "Write a code to create a set with the elements 'a', 'b', 'c' and print it"
      ],
      "metadata": {
        "id": "pUOZKZY3Olvd"
      }
    },
    {
      "cell_type": "code",
      "source": [
        "new_one = {\"a\",\"b\",\"c\"}\n",
        "print(new_one)"
      ],
      "metadata": {
        "colab": {
          "base_uri": "https://localhost:8080/"
        },
        "id": "ZRdXxbfIOpMz",
        "outputId": "4fb5ecd2-c0bd-48b8-d3b8-8a0ffc429995"
      },
      "execution_count": 27,
      "outputs": [
        {
          "output_type": "stream",
          "name": "stdout",
          "text": [
            "{'a', 'b', 'c'}\n"
          ]
        }
      ]
    },
    {
      "cell_type": "code",
      "source": [],
      "metadata": {
        "id": "fDm0erg8OvBz"
      },
      "execution_count": null,
      "outputs": []
    },
    {
      "cell_type": "markdown",
      "source": [
        "Write a code to remove the element 4 from the set {1, 2, 3, 4}"
      ],
      "metadata": {
        "id": "czG359aSOyok"
      }
    },
    {
      "cell_type": "code",
      "source": [
        "old_one = {1,2,3,4}\n",
        "old_one.remove(4)\n",
        "print(old_one)"
      ],
      "metadata": {
        "colab": {
          "base_uri": "https://localhost:8080/"
        },
        "id": "vcqUCwmvOzjd",
        "outputId": "5f240196-3904-4b21-d171-6660a317905d"
      },
      "execution_count": 28,
      "outputs": [
        {
          "output_type": "stream",
          "name": "stdout",
          "text": [
            "{1, 2, 3}\n"
          ]
        }
      ]
    },
    {
      "cell_type": "code",
      "source": [],
      "metadata": {
        "id": "8bVlccP-O4zO"
      },
      "execution_count": null,
      "outputs": []
    },
    {
      "cell_type": "markdown",
      "source": [
        "Write a code to find the union of two sets {1, 2, 3} and {3, 4, 5}"
      ],
      "metadata": {
        "id": "OV_oPAI-O8Pt"
      }
    },
    {
      "cell_type": "code",
      "source": [
        "a = {1,2,3}\n",
        "b = {3,4,5}\n",
        "print(a.union(b))"
      ],
      "metadata": {
        "colab": {
          "base_uri": "https://localhost:8080/"
        },
        "id": "Kp1oCeIpO882",
        "outputId": "5587e134-ffcc-4911-be83-f2ff63011157"
      },
      "execution_count": 29,
      "outputs": [
        {
          "output_type": "stream",
          "name": "stdout",
          "text": [
            "{1, 2, 3, 4, 5}\n"
          ]
        }
      ]
    },
    {
      "cell_type": "code",
      "source": [],
      "metadata": {
        "id": "cvAq-EqyPCV-"
      },
      "execution_count": null,
      "outputs": []
    },
    {
      "cell_type": "markdown",
      "source": [
        "Write a code to find the intersection of two sets {1, 2, 3} and {2, 3, 4}"
      ],
      "metadata": {
        "id": "yqcDunytPGX0"
      }
    },
    {
      "cell_type": "code",
      "source": [
        "h = {1,2,3}\n",
        "b = {2,3,4}\n",
        "print(h.intersection(b))"
      ],
      "metadata": {
        "colab": {
          "base_uri": "https://localhost:8080/"
        },
        "id": "DvPoLxG-PHNU",
        "outputId": "cbef3f3f-ecb7-404b-cffd-e599ad7a02c6"
      },
      "execution_count": 30,
      "outputs": [
        {
          "output_type": "stream",
          "name": "stdout",
          "text": [
            "{2, 3}\n"
          ]
        }
      ]
    },
    {
      "cell_type": "code",
      "source": [],
      "metadata": {
        "id": "iXKbCveZPTRo"
      },
      "execution_count": null,
      "outputs": []
    },
    {
      "cell_type": "markdown",
      "source": [],
      "metadata": {
        "id": "A0aPLB14PUbt"
      }
    },
    {
      "cell_type": "markdown",
      "source": [
        "Write a code to create a dictionary with the keys \"name\", \"age\", and \"city\", and print it"
      ],
      "metadata": {
        "id": "5Pv6A0V1OGeM"
      }
    },
    {
      "cell_type": "code",
      "source": [
        "new_dict = {\"name\":\"aditya\",\"age\":20,\"city\":\"pune\"}\n",
        "print(new_dict)"
      ],
      "metadata": {
        "colab": {
          "base_uri": "https://localhost:8080/"
        },
        "id": "wJhc-j_aPZE-",
        "outputId": "0bc1e12e-b965-4f56-d695-f3945bbd86c1"
      },
      "execution_count": 31,
      "outputs": [
        {
          "output_type": "stream",
          "name": "stdout",
          "text": [
            "{'name': 'aditya', 'age': 20, 'city': 'pune'}\n"
          ]
        }
      ]
    },
    {
      "cell_type": "code",
      "source": [],
      "metadata": {
        "id": "JFTPNzQyHYDE"
      },
      "execution_count": null,
      "outputs": []
    },
    {
      "cell_type": "markdown",
      "source": [
        " Write a code to add a new key-value pair \"country\": \"USA\" to the dictionary {'name': 'John', 'age': 25}."
      ],
      "metadata": {
        "id": "jBIL4orYPrKY"
      }
    },
    {
      "cell_type": "code",
      "source": [
        "add = {'name': 'John', 'age': 25}\n",
        "add[\"country\"] = \"USA\"\n",
        "print(add)"
      ],
      "metadata": {
        "colab": {
          "base_uri": "https://localhost:8080/"
        },
        "id": "dH0uAeL2PsRH",
        "outputId": "68f8f2c9-9927-4940-b076-f44044e2d956"
      },
      "execution_count": 32,
      "outputs": [
        {
          "output_type": "stream",
          "name": "stdout",
          "text": [
            "{'name': 'John', 'age': 25, 'country': 'USA'}\n"
          ]
        }
      ]
    },
    {
      "cell_type": "code",
      "source": [],
      "metadata": {
        "id": "6URnuJvPQFV6"
      },
      "execution_count": null,
      "outputs": []
    },
    {
      "cell_type": "markdown",
      "source": [
        " Write a code to access the value associated with the key \"name\" in the dictionary {'name': 'Alice', 'age': 30}"
      ],
      "metadata": {
        "id": "dQVe88V4QJKm"
      }
    },
    {
      "cell_type": "code",
      "source": [
        "first = {\"name\":\"aditya\", \"age\":15}\n",
        "print(first[\"name\"])"
      ],
      "metadata": {
        "colab": {
          "base_uri": "https://localhost:8080/"
        },
        "id": "gmOKudfFQKW8",
        "outputId": "fbe36010-88d2-4e7f-c1f9-a5f70206cd91"
      },
      "execution_count": 36,
      "outputs": [
        {
          "output_type": "stream",
          "name": "stdout",
          "text": [
            "aditya\n"
          ]
        }
      ]
    },
    {
      "cell_type": "code",
      "source": [],
      "metadata": {
        "id": "o2fL8WX8Qujz"
      },
      "execution_count": null,
      "outputs": []
    },
    {
      "cell_type": "markdown",
      "source": [
        "Write a code to remove the key \"age\" from the dictionary {'name': 'Bob', 'age': 22, 'city': 'New York'}"
      ],
      "metadata": {
        "id": "Zzcg9bnoQwJY"
      }
    },
    {
      "cell_type": "code",
      "source": [
        "a = {'name': 'Bob', 'age': 22, 'city': 'New York'}\n",
        "a.pop(\"age\")\n",
        "print(a)"
      ],
      "metadata": {
        "colab": {
          "base_uri": "https://localhost:8080/"
        },
        "id": "Y5pbvSDpQ3Ik",
        "outputId": "5e0d25bf-a6e7-4384-cde0-89998c49b877"
      },
      "execution_count": 37,
      "outputs": [
        {
          "output_type": "stream",
          "name": "stdout",
          "text": [
            "{'name': 'Bob', 'city': 'New York'}\n"
          ]
        }
      ]
    },
    {
      "cell_type": "code",
      "source": [],
      "metadata": {
        "id": "Z02BaXN4Q74X"
      },
      "execution_count": null,
      "outputs": []
    },
    {
      "cell_type": "markdown",
      "source": [
        "Write a code to check if the key \"city\" exists in the dictionary {'name': 'Alice', 'city': 'Paris'}."
      ],
      "metadata": {
        "id": "mq1eiFURQ_9V"
      }
    },
    {
      "cell_type": "code",
      "source": [
        "h= {\"name \": \"aditya\", \"city\": \"paris\"}\n",
        "print(\"city\"in h)"
      ],
      "metadata": {
        "colab": {
          "base_uri": "https://localhost:8080/"
        },
        "id": "noWBh-10RAzH",
        "outputId": "057cbcd8-9638-4899-8890-907f6d4f467e"
      },
      "execution_count": 38,
      "outputs": [
        {
          "output_type": "stream",
          "name": "stdout",
          "text": [
            "True\n"
          ]
        }
      ]
    },
    {
      "cell_type": "code",
      "source": [],
      "metadata": {
        "id": "tpV3rdrfRSCc"
      },
      "execution_count": null,
      "outputs": []
    },
    {
      "cell_type": "markdown",
      "source": [
        "Write a code to create a list, a tuple, and a dictionary, and print them all."
      ],
      "metadata": {
        "id": "5bIfpDJMRUs9"
      }
    },
    {
      "cell_type": "markdown",
      "source": [],
      "metadata": {
        "id": "3MsXkSrLR8qF"
      }
    },
    {
      "cell_type": "code",
      "source": [
        "my_list = [1, \"hello\", 3.14]\n",
        "my_tuple = (1, \"hello\", 3.14)\n",
        "my_dict = {\"key1\": \"value1\", \"key2\": \"value2\"}\n",
        "\n",
        "print(\"List:\", my_list)\n",
        "print(\"Tuple:\", my_tuple)\n",
        "print(\"Dictionary:\", my_dict)\n"
      ],
      "metadata": {
        "colab": {
          "base_uri": "https://localhost:8080/"
        },
        "id": "G0CR_ZqzRVeH",
        "outputId": "5901be40-5da2-4ceb-930d-e3e9891f6fb1"
      },
      "execution_count": 40,
      "outputs": [
        {
          "output_type": "stream",
          "name": "stdout",
          "text": [
            "List: [1, 'hello', 3.14]\n",
            "Tuple: (1, 'hello', 3.14)\n",
            "Dictionary: {'key1': 'value1', 'key2': 'value2'}\n"
          ]
        }
      ]
    },
    {
      "cell_type": "markdown",
      "source": [],
      "metadata": {
        "id": "1U8GAh9GRsC3"
      }
    },
    {
      "cell_type": "code",
      "source": [],
      "metadata": {
        "id": "jsTQO8B0QpIb"
      },
      "execution_count": null,
      "outputs": []
    },
    {
      "cell_type": "markdown",
      "source": [
        "Write a code to create a list of 5 random numbers between 1 and 100, sort it in ascending order, and print the\n",
        "result.(replaced)"
      ],
      "metadata": {
        "id": "8DQDcBGmSAMu"
      }
    },
    {
      "cell_type": "code",
      "source": [
        "import random\n",
        "\n",
        "random_numbers = [random.randint(1, 100) for _ in range(5)]\n",
        "random_numbers.sort()\n",
        "print(random_numbers)"
      ],
      "metadata": {
        "colab": {
          "base_uri": "https://localhost:8080/"
        },
        "id": "zPZwmuftSEHe",
        "outputId": "ef88a3ba-cc67-4225-825e-f6eada346fc1"
      },
      "execution_count": 41,
      "outputs": [
        {
          "output_type": "stream",
          "name": "stdout",
          "text": [
            "[17, 26, 55, 90, 99]\n"
          ]
        }
      ]
    },
    {
      "cell_type": "markdown",
      "source": [
        " Write a code to create a list with strings and print the element at the third index."
      ],
      "metadata": {
        "id": "xIRUPchySMyV"
      }
    },
    {
      "cell_type": "code",
      "source": [],
      "metadata": {
        "id": "0yTeQVXsQjyt"
      },
      "execution_count": null,
      "outputs": []
    },
    {
      "cell_type": "markdown",
      "source": [],
      "metadata": {
        "id": "7JucapsPSW1f"
      }
    },
    {
      "cell_type": "code",
      "source": [],
      "metadata": {
        "id": "BebkwRhAQfBM"
      },
      "execution_count": null,
      "outputs": []
    },
    {
      "cell_type": "code",
      "metadata": {
        "colab": {
          "base_uri": "https://localhost:8080/"
        },
        "id": "4a0cab22",
        "outputId": "532e27c4-6747-48e3-991a-63e943373bbc"
      },
      "source": [
        "my_list = [\"apple\", \"banana\", \"cherry\", \"date\"]\n",
        "print(my_list[2])"
      ],
      "execution_count": 42,
      "outputs": [
        {
          "output_type": "stream",
          "name": "stdout",
          "text": [
            "cherry\n"
          ]
        }
      ]
    },
    {
      "cell_type": "markdown",
      "source": [
        "Write a code to combine two dictionaries into one and print the result."
      ],
      "metadata": {
        "id": "Wg_7Xv7CSZE8"
      }
    },
    {
      "cell_type": "markdown",
      "source": [],
      "metadata": {
        "id": "NJ_bRZUkSeZZ"
      }
    },
    {
      "cell_type": "code",
      "metadata": {
        "colab": {
          "base_uri": "https://localhost:8080/"
        },
        "id": "e88e7ef2",
        "outputId": "a794b98c-8215-435c-883e-93474722f7ad"
      },
      "source": [
        "dict1 = {'a': 1, 'b': 2}\n",
        "dict2 = {'c': 3, 'd': 4}\n",
        "dict1.update(dict2)\n",
        "print(dict1)"
      ],
      "execution_count": 43,
      "outputs": [
        {
          "output_type": "stream",
          "name": "stdout",
          "text": [
            "{'a': 1, 'b': 2, 'c': 3, 'd': 4}\n"
          ]
        }
      ]
    },
    {
      "cell_type": "markdown",
      "source": [
        "Write a code to convert a list of strings into a set"
      ],
      "metadata": {
        "id": "xIqkVjywSfv2"
      }
    },
    {
      "cell_type": "code",
      "source": [],
      "metadata": {
        "id": "UnHAkJ7xSgyf"
      },
      "execution_count": null,
      "outputs": []
    },
    {
      "cell_type": "code",
      "metadata": {
        "colab": {
          "base_uri": "https://localhost:8080/"
        },
        "id": "5e6c171d",
        "outputId": "4d3f0d77-ba4f-45ef-baa5-5d12349ee9d4"
      },
      "source": [
        "my_list = [\"apple\", \"banana\", \"cherry\", \"apple\"]\n",
        "my_set = set(my_list)\n",
        "print(my_set)"
      ],
      "execution_count": 44,
      "outputs": [
        {
          "output_type": "stream",
          "name": "stdout",
          "text": [
            "{'apple', 'banana', 'cherry'}\n"
          ]
        }
      ]
    }
  ]
}